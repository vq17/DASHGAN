{
 "cells": [
  {
   "cell_type": "code",
   "execution_count": 25,
   "metadata": {},
   "outputs": [],
   "source": [
    "import numpy as np\n",
    "import matplotlib.pyplot as plt\n",
    "import os\n",
    "import zlib\n",
    "import json\n",
    "import base64\n",
    "# rootDir = \".\\\\AppData\\\\Local\\\\dash_early_access\\\\global_levels\\\\\"\n",
    "rootDir = \"/Users/victorjupin/kode/DASHGAN_orig/dash_early_access/global_levels/\""
   ]
  },
  {
   "cell_type": "code",
   "execution_count": 50,
   "metadata": {},
   "outputs": [],
   "source": [
    "levels = os.walk(rootDir)\n",
    "levels = levels.__next__()[2]\n",
    "\n",
    "#for d in tmp:\n",
    "#    print(rootDir + d)\n",
    "from sklearn.cluster import DBSCAN\n",
    "def parseLevel2(blob, n=32, m=3):\n",
    "    lvlArr = np.zeros((m,n,n),dtype=np.int)\n",
    "#     xmin = int(x0 - n/2)\n",
    "#     xmax = int(x0 + n/2)\n",
    "#     ymin = int(y0 - n/2)\n",
    "#     ymax = int(y0 + n/2)\n",
    "    tileList = [];\n",
    "    for element in blob.decode().split('<sep_json>'):\n",
    "        if len(element) == 0:\n",
    "            continue\n",
    "        if len(element) > 550:\n",
    "            print(element)\n",
    "            continue\n",
    "#         print(len(element))\n",
    "\n",
    "        tmp = json.loads(element)\n",
    "        tileList.append({'x': tmp['x'], 'y': tmp['y'], 'tile': tmp['tileNum']})\n",
    "#         print(tmp['x']/32,\" \", tmp['y']/32)\n",
    "#         for i in range(m):\n",
    "#             if tmp['x'] in range(xmin * 32 + i, xmax * 32 + i) and tmp['y'] in range(ymin * 32, ymax * 32):\n",
    "#                 lvlArr[i,int(tmp['x']/32-xmin - i), int(tmp['y']/32 - ymin)] = int(tmp['tileNum'])\n",
    "#             print(\"hit! \", tmp['tileType'])\n",
    "#     lvlArr = np.delete(lvlArr, np.nonzero(np.count_nonzero(lvlArr, axis=(1, 2)) < 20), axis=0)\n",
    "#     lvlArr[lvlArr == 44] = 12\n",
    "#     lvlArr[lvlArr > 6] -= 1\n",
    "    tiles_xy = np.vstack((np.array([tile['x'] for tile in tileList]),np.array([tile['y'] for tile in tileList])))/ 32\n",
    "    return tiles_xy\n",
    "def parseLevel(blob, x0=16, y0=16, n=32, m=3):\n",
    "    lvlArr = np.zeros((m,n,n),dtype=np.int)\n",
    "    xmin = int(x0 - n/2)\n",
    "    xmax = int(x0 + n/2)\n",
    "    ymin = int(y0 - n/2)\n",
    "    ymax = int(y0 + n/2)\n",
    "    for element in blob.decode().split('<sep_json>'):\n",
    "        if len(element) == 0:\n",
    "            continue\n",
    "        if len(element) > 550:\n",
    "            print(element)\n",
    "            continue\n",
    "#         print(len(element))\n",
    "\n",
    "        tmp = json.loads(element)\n",
    "#         print(tmp['x']/32,\" \", tmp['y']/32)\n",
    "        for i in range(m):\n",
    "            if tmp['x'] in range(xmin * 32 + i, xmax * 32 + i) and tmp['y'] in range(ymin * 32, ymax * 32):\n",
    "                lvlArr[i,int(tmp['x']/32-xmin - i), int(tmp['y']/32 - ymin)] = int(tmp['tileNum']) + 1\n",
    "#             print(\"hit! \", tmp['tileType'])\n",
    "    lvlArr = np.delete(lvlArr, np.nonzero(np.count_nonzero(lvlArr, axis=(1, 2)) < 20), axis=0)\n",
    "    lvlArr[lvlArr == 45] = 13\n",
    "    lvlArr[lvlArr > 7] -= 1\n",
    "    return lvlArr"
   ]
  },
  {
   "cell_type": "code",
   "execution_count": 92,
   "metadata": {},
   "outputs": [
    {
     "name": "stdout",
     "output_type": "stream",
     "text": [
      "3   /Users/victorjupin/kode/DASHGAN_orig/dash_early_access/global_levels/bullet jump gap.sav\n",
      "[[ 7.  7.  7.  9. 10. 11. 13. 13. 13. 12. 11. 10.  9.  8.  8.  8.  9. 10.\n",
      "  11. 12. 12. 11. 10.  9.  0.  1.  2.  2.  1.  0. 20. 19. 18. 18. 19. 20.\n",
      "  14.  6.  7. 13. 10.  9. 11. 19.  1.]\n",
      " [27. 26. 25. 24. 24. 24. 25. 26. 27. 27. 27. 27. 27. 27. 26. 25. 25. 25.\n",
      "  25. 25. 26. 26. 26. 26. 20. 20. 20. 21. 21. 21. 21. 21. 21. 20. 20. 20.\n",
      "  25. 25. 24. 24. 23. 23. 23. 20. 19.]]\n"
     ]
    },
    {
     "data": {
      "image/png": "[encoded data removed]",
      "text/plain": [
       "<Figure size 432x288 with 1 Axes>"
      ]
     },
     "metadata": {
      "needs_background": "light"
     },
     "output_type": "display_data"
    }
   ],
   "source": [
    "idxLevel = 3\n",
    "for i, level in enumerate(levels):\n",
    "    if i < idxLevel:\n",
    "        continue\n",
    "    if i > idxLevel:\n",
    "        break\n",
    "    filename = rootDir + level\n",
    "    print(i, \" \", filename)\n",
    "    with open(filename, \"rb\") as f:\n",
    "        bytes_read = f.read()\n",
    "    tmp = base64.b64decode(bytes_read)\n",
    "\n",
    "    blob = zlib.decompress(tmp)\n",
    "#     print(blob)\n",
    "    lvlArr = np.zeros((100,100),dtype=np.uint)\n",
    "    X = parseLevel2(blob, m = 32)\n",
    "    print(X)\n",
    "# plt.spy(X[0,:,:])\n",
    "# plt.show()\n",
    "# plt.spy(X[1,:,:])\n",
    "# plt.show()\n",
    "plt.scatter(X[0,:],X[1,:])\n",
    "plt.show()"
   ]
  },
  {
   "cell_type": "code",
   "execution_count": 106,
   "metadata": {},
   "outputs": [
    {
     "name": "stdout",
     "output_type": "stream",
     "text": [
      "[0 0 0 0 0 0 0 0 0 0 0 0 0 0 0 0 0 0 0 0 0 0 0 0 1 1 1 1 1 1 2 2 2 2 2 2 0\n",
      " 0 0 0 0 0 0 2 1]\n"
     ]
    }
   ],
   "source": [
    "from sklearn.preprocessing import StandardScaler\n",
    "ss = StandardScaler()\n",
    "XX = ss.fit_transform(X.T)\n",
    "db = DBSCAN().fit(XX)\n",
    "print(db.labels_)"
   ]
  },
  {
   "cell_type": "code",
   "execution_count": 107,
   "metadata": {},
   "outputs": [
    {
     "data": {
      "text/plain": [
       "array([5.33333333, 2.54636027])"
      ]
     },
     "execution_count": 107,
     "metadata": {},
     "output_type": "execute_result"
    }
   ],
   "source": [
    "ss.scale_"
   ]
  },
  {
   "cell_type": "code",
   "execution_count": 57,
   "metadata": {},
   "outputs": [],
   "source": [
    "import torch\n",
    "# import torchvision\n",
    "\n",
    "# An instance of your model.\n",
    "# model = torchvision.models.resnet18()\n",
    "\n",
    "# An example input you would normally provide to your model's forward() method.\n",
    "# example = torch.rand(1, 3, 224, 224)\n",
    "\n",
    "# # Use torch.jit.trace to generate a torch.jit.ScriptModule via tracing.\n",
    "# traced_script_module = torch.jit.trace(model, example)\n",
    "\n",
    "# # Save the model\n",
    "# traced_script_module.save(\"model-resnet18-jit.pt\")\n",
    "\n",
    "G = torch.jit.load('/Users/victorjupin/kode/DASHGAN_orig/netG_epoch_99.pt')"
   ]
  },
  {
   "cell_type": "code",
   "execution_count": 71,
   "metadata": {},
   "outputs": [],
   "source": [
    "fake = G(torch.FloatTensor(np.random.randn(32).reshape((1,32,1,1))))"
   ]
  },
  {
   "cell_type": "code",
   "execution_count": 72,
   "metadata": {},
   "outputs": [
    {
     "name": "stdout",
     "output_type": "stream",
     "text": [
      "torch.Size([1, 12, 32, 32])\n"
     ]
    }
   ],
   "source": [
    "print(fake.data.shape)"
   ]
  },
  {
   "cell_type": "code",
   "execution_count": null,
   "metadata": {},
   "outputs": [],
   "source": []
  }
 ],
 "metadata": {
  "kernelspec": {
   "display_name": "Python 3",
   "language": "python",
   "name": "python3"
  },
  "language_info": {
   "codemirror_mode": {
    "name": "ipython",
    "version": 3
   },
   "file_extension": ".py",
   "mimetype": "text/x-python",
   "name": "python",
   "nbconvert_exporter": "python",
   "pygments_lexer": "ipython3",
   "version": "3.7.4"
  }
 },
 "nbformat": 4,
 "nbformat_minor": 4
}

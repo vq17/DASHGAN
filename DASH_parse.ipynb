{
 "cells": [
  {
   "cell_type": "code",
   "execution_count": 9,
   "metadata": {},
   "outputs": [],
   "source": [
    "import numpy as np\n",
    "import matplotlib.pyplot as plt\n",
    "import os\n",
    "import zlib\n",
    "import json\n",
    "import base64\n",
    "# rootDir = \".\\\\AppData\\\\Local\\\\dash_early_access\\\\global_levels\\\\\"\n",
    "rootDir = \"/Users/victorjupin/kode/DASHGAN/dash_early_access/global_levels/\""
   ]
  },
  {
   "cell_type": "code",
   "execution_count": 101,
   "metadata": {},
   "outputs": [],
   "source": [
    "levels = os.walk(rootDir)\n",
    "levels = levels.__next__()[2]\n",
    "\n",
    "#for d in tmp:\n",
    "#    print(rootDir + d)\n",
    "def parseLevel(blob, x0=16, y0=16, n=32):\n",
    "    lvlArr = np.zeros((n,n),dtype=np.int)\n",
    "    xmin = int(x0 - n/2)\n",
    "    xmax = int(x0 + n/2)\n",
    "    ymin = int(y0 - n/2)\n",
    "    ymax = int(y0 + n/2)\n",
    "    for element in blob.decode().split('<sep_json>'):\n",
    "        if len(element) == 0:\n",
    "            continue\n",
    "        if len(element) > 250:\n",
    "            print(element)\n",
    "            continue            \n",
    "#         print(len(element))\n",
    "        tmp = json.loads(element)\n",
    "#         print(tmp['x']/32,\" \", tmp['y']/32)\n",
    "        if tmp['x'] in range(xmin * 32, xmax * 32) and tmp['y'] in range(ymin * 32, ymax * 32):\n",
    "            lvlArr[int(tmp['x']/32-xmin), int(tmp['y']/32 - ymin)] = int(tmp['tileType'])\n",
    "#             print(\"hit! \", tmp['tileType'])\n",
    "    return lvlArr"
   ]
  },
  {
   "cell_type": "code",
   "execution_count": 106,
   "metadata": {},
   "outputs": [
    {
     "name": "stdout",
     "output_type": "stream",
     "text": [
      "/Users/victorjupin/kode/DASHGAN/dash_early_access/global_levels/peaceful place.sav\n"
     ]
    },
    {
     "data": {
      "image/png": "[encoded data removed]",
      "text/plain": [
       "<Figure size 432x288 with 1 Axes>"
      ]
     },
     "metadata": {
      "needs_background": "light"
     },
     "output_type": "display_data"
    }
   ],
   "source": [
    "filename = rootDir + levels[7]\n",
    "print(filename)\n",
    "with open(filename, \"rb\") as f:\n",
    "    bytes_read = f.read()\n",
    "tmp = base64.b64decode(bytes_read)\n",
    "\n",
    "blob = zlib.decompress(tmp)\n",
    "lvlArr = np.zeros((100,100),dtype=np.uint)\n",
    "X = parseLevel(blob)\n",
    "\n",
    "plt.spy(X.T)\n",
    "plt.show()"
   ]
  },
  {
   "cell_type": "code",
   "execution_count": null,
   "metadata": {},
   "outputs": [],
   "source": []
  },
  {
   "cell_type": "code",
   "execution_count": null,
   "metadata": {},
   "outputs": [],
   "source": []
  }
 ],
 "metadata": {
  "kernelspec": {
   "display_name": "Python 3",
   "language": "python",
   "name": "python3"
  },
  "language_info": {
   "codemirror_mode": {
    "name": "ipython",
    "version": 3
   },
   "file_extension": ".py",
   "mimetype": "text/x-python",
   "name": "python",
   "nbconvert_exporter": "python",
   "pygments_lexer": "ipython3",
   "version": "3.7.4"
  }
 },
 "nbformat": 4,
 "nbformat_minor": 4
}
